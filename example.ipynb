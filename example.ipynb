{
 "cells": [
  {
   "cell_type": "code",
   "execution_count": null,
   "metadata": {},
   "outputs": [],
   "source": [
    "from face_roi import display_roi, get_face_roi, mat_loader, mat_converter\n",
    "import cv2\n",
    "import scipy.io as sio\n",
    "import numpy as np"
   ]
  },
  {
   "cell_type": "code",
   "execution_count": null,
   "metadata": {},
   "outputs": [],
   "source": [
    "# Example of how to use with a video\n",
    "vid_path = 'scamps/converted/P000008.mat.avi'\n",
    "stream = cv2.VideoCapture(vid_path)\n",
    "display_roi(stream)"
   ]
  },
  {
   "cell_type": "code",
   "execution_count": null,
   "metadata": {},
   "outputs": [],
   "source": [
    "# Example of how to use with a camera\n",
    "stream = cv2.VideoCapture(0)\n",
    "display_roi(stream)\n",
    "if stream.isOpened():\n",
    "    stream.release()"
   ]
  },
  {
   "cell_type": "code",
   "execution_count": null,
   "metadata": {},
   "outputs": [],
   "source": [
    "# Example of how to directly use the get_face_roi function\n",
    "vid_path = 'scamps/converted/P000001.mat.avi'\n",
    "stream = cv2.VideoCapture(vid_path)\n",
    "roi_generator = get_face_roi(stream)\n",
    "\n",
    "x=1\n",
    "try:\n",
    "    while x:\n",
    "        # Gets all roi images \n",
    "        masked_image, meshed_image, meshed_and_masked_image = next(roi_generator)\n",
    "        \n",
    "        # Your code here / Display for now\n",
    "        cv2.imshow(\"Masked Image\", masked_image)\n",
    "        \n",
    "        if cv2.waitKey(5) & 0xFF == ord('q'):\n",
    "                cv2.destroyAllWindows()\n",
    "\n",
    "# Exits when input source is finished\n",
    "except StopIteration:\n",
    "    x=0"
   ]
  }
 ],
 "metadata": {
  "kernelspec": {
   "display_name": "ten",
   "language": "python",
   "name": "python3"
  },
  "language_info": {
   "codemirror_mode": {
    "name": "ipython",
    "version": 3
   },
   "file_extension": ".py",
   "mimetype": "text/x-python",
   "name": "python",
   "nbconvert_exporter": "python",
   "pygments_lexer": "ipython3",
   "version": "3.10.14"
  }
 },
 "nbformat": 4,
 "nbformat_minor": 2
}
